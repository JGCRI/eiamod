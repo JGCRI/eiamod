{
 "cells": [
  {
   "cell_type": "code",
   "execution_count": 1,
   "metadata": {
    "collapsed": true
   },
   "outputs": [],
   "source": [
    "import numpy as np"
   ]
  },
  {
   "cell_type": "code",
   "execution_count": 2,
   "metadata": {},
   "outputs": [
    {
     "data": {
      "text/plain": [
       "'/Users/link593/wrk/eiamod/data-raw/gdp'"
      ]
     },
     "execution_count": 2,
     "metadata": {},
     "output_type": "execute_result"
    }
   ],
   "source": [
    "import os\n",
    "os.chdir('..')\n",
    "os.getcwd()"
   ]
  },
  {
   "cell_type": "code",
   "execution_count": 3,
   "metadata": {
    "collapsed": true
   },
   "outputs": [],
   "source": [
    "def unragged(r, ncol=14):\n",
    "    nrow = r.shape[0]\n",
    "    unr = np.full((nrow,ncol), np.nan)\n",
    "    for row in range(nrow):\n",
    "        nc = min(ncol, r[row].shape[0])\n",
    "        unr[row,:nc] = r[row][:nc]\n",
    "    return unr\n"
   ]
  },
  {
   "cell_type": "code",
   "execution_count": 4,
   "metadata": {
    "collapsed": true
   },
   "outputs": [],
   "source": [
    "def idx2time(idx):\n",
    "    qtr = 1 + (idx % 4)\n",
    "    year = 2006 + (idx // 4)\n",
    "    return np.transpose(np.vstack((year, qtr)))"
   ]
  },
  {
   "cell_type": "code",
   "execution_count": 5,
   "metadata": {
    "collapsed": true
   },
   "outputs": [],
   "source": [
    "def writem(time, petrol, gas, gdp, dirname='.'):\n",
    "    ncol = 14\n",
    "    cnames = [str(i) for i in range(ncol)]\n",
    "    np.savetxt(os.path.join(dirname,'petrol.csv'), petrol, delimiter=',', header=','.join(cnames), comments='')\n",
    "    np.savetxt(os.path.join(dirname,'gas.csv'), gas, delimiter=',', header=','.join(cnames), comments='')\n",
    "    np.savetxt(os.path.join(dirname,'time.csv'), time, delimiter=',', header='year, quarter', comments='')\n",
    "    np.savetxt(os.path.join(dirname,'gdp.csv'), gdp, delimiter=',', header='gdp', comments='')"
   ]
  },
  {
   "cell_type": "code",
   "execution_count": 6,
   "metadata": {
    "collapsed": true
   },
   "outputs": [],
   "source": [
    "def loadem(dirname):\n",
    "    petrol = unragged(np.load(os.path.join(dirname,'petrol.npy')))\n",
    "    gas = unragged(np.load(os.path.join(dirname,'gas.npy')))\n",
    "    gdp = np.load(os.path.join(dirname,'gdp.npy'))\n",
    "    time = idx2time(np.load(os.path.join(dirname,'time.npy')))\n",
    "    return (time, petrol, gas, gdp)\n"
   ]
  },
  {
   "cell_type": "code",
   "execution_count": 7,
   "metadata": {},
   "outputs": [
    {
     "name": "stdout",
     "output_type": "stream",
     "text": [
      "dev\n",
      "test\n",
      "train\n"
     ]
    }
   ],
   "source": [
    "for dirname in ['dev','test','train']:\n",
    "    print(dirname)\n",
    "    (time, petrol, gas, gdp) = loadem(dirname)\n",
    "    writem(time, petrol, gas, gdp, dirname)"
   ]
  },
  {
   "cell_type": "code",
   "execution_count": null,
   "metadata": {
    "collapsed": true
   },
   "outputs": [],
   "source": []
  }
 ],
 "metadata": {
  "kernelspec": {
   "display_name": "Python 3",
   "language": "python",
   "name": "python3"
  },
  "language_info": {
   "codemirror_mode": {
    "name": "ipython",
    "version": 3
   },
   "file_extension": ".py",
   "mimetype": "text/x-python",
   "name": "python",
   "nbconvert_exporter": "python",
   "pygments_lexer": "ipython3",
   "version": "3.6.0"
  }
 },
 "nbformat": 4,
 "nbformat_minor": 2
}
